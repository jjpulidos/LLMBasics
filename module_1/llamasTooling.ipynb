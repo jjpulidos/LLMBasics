{
 "cells": [
  {
   "cell_type": "code",
   "execution_count": 1,
   "id": "0f9a52c8",
   "metadata": {},
   "outputs": [],
   "source": [
    "%%capture --no-stderr\n",
    "%pip install --quiet -U langchain_core langchain_community langchain-ollama"
   ]
  },
  {
   "cell_type": "code",
   "execution_count": 2,
   "id": "ed355e20-d66d-4612-a9a1-ba2a89bccdbc",
   "metadata": {},
   "outputs": [],
   "source": [
    "%%capture --no-stderr\n",
    "%pip install langfuse langchain --upgrade"
   ]
  },
  {
   "cell_type": "code",
   "execution_count": 3,
   "id": "9b35e977-24eb-4326-9364-a3cb06d449e3",
   "metadata": {},
   "outputs": [
    {
     "name": "stdin",
     "output_type": "stream",
     "text": [
      "LANGFUSE_PUBLIC_KEY:  ········\n",
      "LANGFUSE_SECRET_KEY:  ········\n"
     ]
    }
   ],
   "source": [
    "import os, getpass\n",
    "\n",
    "def _set_env(var: str):\n",
    "    os.environ[var] = getpass.getpass(f\"{var}: \")\n",
    "\n",
    "_set_env(\"LANGFUSE_PUBLIC_KEY\")\n",
    "_set_env(\"LANGFUSE_SECRET_KEY\")"
   ]
  },
  {
   "cell_type": "code",
   "execution_count": 4,
   "id": "eea451a7-2e77-469a-8c34-3d7ab00653dc",
   "metadata": {},
   "outputs": [],
   "source": [
    "from langfuse import Langfuse\n",
    "from langfuse.callback import CallbackHandler\n",
    "\n",
    "# Initialize Langfuse client\n",
    "langfuse = Langfuse(\n",
    "    public_key=os.getenv(\"LANGFUSE_PUBLIC_KEY\"),\n",
    "    secret_key=os.getenv(\"LANGFUSE_SECRET_KEY\"),\n",
    "    host=\"http://localhost:3000\"\n",
    ")\n",
    "\n",
    "langfuse_handler = CallbackHandler(\n",
    "    public_key=os.getenv(\"LANGFUSE_PUBLIC_KEY\"),\n",
    "    secret_key=os.getenv(\"LANGFUSE_SECRET_KEY\"),\n",
    "    host=\"http://localhost:3000\"\n",
    ")"
   ]
  },
  {
   "cell_type": "code",
   "execution_count": 5,
   "id": "e19a54d3",
   "metadata": {},
   "outputs": [],
   "source": [
    "from langchain_ollama import ChatOllama\n",
    "\n",
    "ollama_model = ChatOllama(\n",
    "    model=\"llama3.1\",\n",
    "    temperature=0\n",
    ")"
   ]
  },
  {
   "cell_type": "code",
   "execution_count": 6,
   "id": "b1280e1b",
   "metadata": {},
   "outputs": [
    {
     "data": {
      "text/plain": [
       "AIMessage(content='¿Dónde está mi llama? (Where is my llama?)', additional_kwargs={}, response_metadata={'model': 'llama3.1', 'created_at': '2024-10-15T01:26:34.295075Z', 'message': {'role': 'assistant', 'content': ''}, 'done_reason': 'stop', 'done': True, 'total_duration': 8184361792, 'load_duration': 7609508833, 'prompt_eval_count': 31, 'prompt_eval_duration': 149471000, 'eval_count': 15, 'eval_duration': 421245000}, id='run-55d44a28-6895-4153-95ee-0e631f181a82-0', usage_metadata={'input_tokens': 31, 'output_tokens': 15, 'total_tokens': 46})"
      ]
     },
     "execution_count": 6,
     "metadata": {},
     "output_type": "execute_result"
    }
   ],
   "source": [
    "from langchain_core.prompts import ChatPromptTemplate\n",
    "\n",
    "# Now we are using ChatPromptTemplate instead of PromptTemplate\n",
    "prompt = ChatPromptTemplate.from_messages(\n",
    "    [\n",
    "        (\n",
    "            \"system\",\n",
    "            \"You are a helpful assistant that translates {input_language} to {output_language}.\",\n",
    "        ),\n",
    "        (\"human\", \"{input}\"),\n",
    "    ]\n",
    ")\n",
    "\n",
    "chain = prompt | ollama_model\n",
    "chain.invoke(\n",
    "    {\n",
    "        \"input_language\": \"English\",\n",
    "        \"output_language\": \"Spanish\",\n",
    "        \"input\": \"Where is my llama?.\",\n",
    "    },\n",
    "    config={\"callbacks\": [langfuse_handler]}\n",
    ")"
   ]
  },
  {
   "cell_type": "markdown",
   "id": "e64d0cdb-d886-46fe-8464-56e7b1797d1a",
   "metadata": {},
   "source": [
    "Now lets try to muliply 2 numbers"
   ]
  },
  {
   "cell_type": "code",
   "execution_count": 8,
   "id": "040d7588-8eb8-4322-b895-97813bd3d72e",
   "metadata": {},
   "outputs": [
    {
     "data": {
      "text/plain": [
       "AIMessage(content=\"To multiply these two numbers, I'll perform the calculation:\\n\\n5674356 × 43526789 = \\n\\nCalculating...\\n\\nThe result is: **246,911,111,444**\\n\\nLet me know if you need any further assistance!\", additional_kwargs={}, response_metadata={'model': 'llama3.1', 'created_at': '2024-10-15T01:29:49.828817Z', 'message': {'role': 'assistant', 'content': ''}, 'done_reason': 'stop', 'done': True, 'total_duration': 2363333500, 'load_duration': 29677083, 'prompt_eval_count': 53, 'prompt_eval_duration': 891677000, 'eval_count': 49, 'eval_duration': 1438450000}, id='run-57bdf0a1-3d0d-49ee-b59c-33997247233f-0', usage_metadata={'input_tokens': 53, 'output_tokens': 49, 'total_tokens': 102})"
      ]
     },
     "execution_count": 8,
     "metadata": {},
     "output_type": "execute_result"
    }
   ],
   "source": [
    "multiply_prompt = ChatPromptTemplate.from_messages(\n",
    "    [\n",
    "        (\n",
    "            \"system\",\n",
    "            \"You are a helpful assistant that multiplies 2 numbers, the user is going to provide 2 numbers and you have to muliply them.\",\n",
    "        ),\n",
    "        (\"human\", \"{input}\"),\n",
    "    ]\n",
    ")\n",
    "\n",
    "multiply_chain = multiply_prompt | ollama_model\n",
    "multiply_chain.invoke(\n",
    "    {\n",
    "        \"input\": \"5674356 and 43526789\",\n",
    "    },\n",
    "    config={\"callbacks\": [langfuse_handler]}\n",
    ")"
   ]
  },
  {
   "cell_type": "code",
   "execution_count": 9,
   "id": "fbd16249-dd2b-4eee-82c9-97aa10c75e86",
   "metadata": {},
   "outputs": [
    {
     "data": {
      "text/plain": [
       "246986496322884"
      ]
     },
     "execution_count": 9,
     "metadata": {},
     "output_type": "execute_result"
    }
   ],
   "source": [
    "5674356 * 43526789"
   ]
  },
  {
   "cell_type": "markdown",
   "id": "d9080b35-e466-4d23-8e2d-656386a06138",
   "metadata": {},
   "source": [
    "Oh no! My llama does not work really well at multiplying numbers.\n",
    "\n",
    "So let's bring some arithmetical tools to my llama chain so the model can use it by demand"
   ]
  },
  {
   "cell_type": "markdown",
   "id": "c1ede3f4-fbb6-49cd-a610-6c5f981fb0b2",
   "metadata": {},
   "source": [
    "## Function calling"
   ]
  },
  {
   "cell_type": "code",
   "execution_count": 21,
   "id": "bafd7d5d",
   "metadata": {},
   "outputs": [],
   "source": [
    "from langchain_core.tools import tool\n",
    "from langgraph.prebuilt import ToolNode\n",
    "\n",
    "@tool\n",
    "def multiply(a: int, b: int) -> int:\n",
    "    \"\"\"Multiply a and b.\n",
    "\n",
    "    Args:\n",
    "        a: first int\n",
    "        b: second int\n",
    "    \"\"\"\n",
    "    return a * b\n",
    "\n",
    "my_tools = [multiply]\n",
    "ollama_with_tools = ollama_model.bind_tools(my_tools)\n",
    "tool_node = ToolNode(my_tools)"
   ]
  },
  {
   "cell_type": "markdown",
   "id": "26f93c32-a493-4195-b96e-01ae4d4e1000",
   "metadata": {},
   "source": [
    "ToolNode operates on graph state with a list of messages. \n",
    "It expects the last message in the list to be an **AIMessage** with **tool_calls** parameter.\n",
    "\n",
    "**Let's first see how to invoke the tool node manually:**"
   ]
  },
  {
   "cell_type": "code",
   "execution_count": 23,
   "id": "d44422cc-7456-410e-bff7-bbc7f5470605",
   "metadata": {},
   "outputs": [
    {
     "data": {
      "text/plain": [
       "{'messages': [ToolMessage(content='100', name='multiply', tool_call_id='tool_call_id')]}"
      ]
     },
     "execution_count": 23,
     "metadata": {},
     "output_type": "execute_result"
    }
   ],
   "source": [
    "from langchain_core.messages import AIMessage\n",
    "message_with_a_tool_call = AIMessage(\n",
    "    content=\"\",\n",
    "    tool_calls=[\n",
    "        {\n",
    "            \"name\": \"multiply\",\n",
    "            \"args\": {\"a\": 20, \"b\": 5},\n",
    "            \"id\": \"tool_call_id\",\n",
    "            \"type\": \"tool_call\",\n",
    "        }\n",
    "    ],\n",
    ")\n",
    "\n",
    "tool_node.invoke({\"messages\": [message_with_a_tool_call]})"
   ]
  },
  {
   "cell_type": "markdown",
   "id": "74d378d5-b480-48a4-a284-c0585e532449",
   "metadata": {},
   "source": [
    "We got the result as the content, and it is correct. Note we are not using any model, just calling the tool manually"
   ]
  },
  {
   "cell_type": "code",
   "execution_count": 12,
   "id": "aff5292c-0417-437d-89c6-626db3c4fb53",
   "metadata": {},
   "outputs": [
    {
     "data": {
      "text/plain": [
       "AIMessage(content='', additional_kwargs={}, response_metadata={'model': 'llama3.1', 'created_at': '2024-10-15T01:32:17.886753Z', 'message': {'role': 'assistant', 'content': '', 'tool_calls': [{'function': {'name': 'multiply', 'arguments': {'a': 2, 'b': 3}}}]}, 'done_reason': 'stop', 'done': True, 'total_duration': 2177728625, 'load_duration': 31231000, 'prompt_eval_count': 174, 'prompt_eval_duration': 1513143000, 'eval_count': 22, 'eval_duration': 632297000}, id='run-00db1804-795a-4f54-99ed-8ce7abd16863-0', tool_calls=[{'name': 'multiply', 'args': {'a': 2, 'b': 3}, 'id': 'c0500bfb-21d0-421a-b774-39877154a578', 'type': 'tool_call'}], usage_metadata={'input_tokens': 174, 'output_tokens': 22, 'total_tokens': 196})"
      ]
     },
     "execution_count": 12,
     "metadata": {},
     "output_type": "execute_result"
    }
   ],
   "source": [
    "from langchain_core.messages import HumanMessage\n",
    "\n",
    "tool_call = ollama_with_tools.invoke(\n",
    "    [HumanMessage(content=f\"What is 2 multiplied by 3\", name=\"JuanPulido\")], \n",
    "    config={\"callbacks\": [langfuse_handler]}\n",
    "    )\n",
    "tool_call"
   ]
  },
  {
   "cell_type": "markdown",
   "id": "e1ebe838-78ed-4a2c-b38f-a0841dc27273",
   "metadata": {},
   "source": [
    "Note in LangFuse that this is not a RunnableSequence but a ChatOLlama instead, this because we are not chaining a prompt and a model, but we just added some tools to the model and just invoke it.\n",
    "\n",
    "In this case, in the invoke output we can see the **tool_calls** field which contains the function calling to our previous defined **multiply** python function.\n",
    "\n",
    "As we are not using the tool_node to run manually the function we cannot get the result. But lets do it"
   ]
  },
  {
   "cell_type": "code",
   "execution_count": 24,
   "id": "2c1073fc-f2f7-4d6f-bf75-32c7cf36e2fa",
   "metadata": {},
   "outputs": [
    {
     "data": {
      "text/plain": [
       "{'messages': [ToolMessage(content='6', name='multiply', tool_call_id='c0500bfb-21d0-421a-b774-39877154a578')]}"
      ]
     },
     "execution_count": 24,
     "metadata": {},
     "output_type": "execute_result"
    }
   ],
   "source": [
    "tool_node.invoke({\"messages\": [tool_call]})"
   ]
  },
  {
   "cell_type": "markdown",
   "id": "bc503b54-258f-4a53-9e70-d646d4444029",
   "metadata": {},
   "source": [
    "### Putting the function calling in a Graph\n",
    "\n",
    "Now we saw some of the functionalities when using Sequences and chains in LangChain, but if we want to build a product-ready app, we will need something more than just **Micro-Orchestration** but **Macro-Orchestation**, and there is when LangGraph comes to play.\n",
    "\n",
    "Let's build a simple Graph using our previously Ollama model + tools\n",
    "\n",
    "Note that here our main Node to be defined is the invocation of our ollama model passing as input the messages state from LangGraph State"
   ]
  },
  {
   "cell_type": "code",
   "execution_count": 14,
   "id": "c418bfc2-83d0-4b9b-abb0-dde473ad8a3d",
   "metadata": {},
   "outputs": [],
   "source": [
    "%%capture --no-stderr\n",
    "%pip install -U langgraph"
   ]
  },
  {
   "cell_type": "code",
   "execution_count": 15,
   "id": "91d4d305-7250-4730-bddf-1acf385171ea",
   "metadata": {},
   "outputs": [
    {
     "data": {
      "image/jpeg": "[encoded data removed]",
      "text/plain": [
       "<IPython.core.display.Image object>"
      ]
     },
     "metadata": {},
     "output_type": "display_data"
    }
   ],
   "source": [
    "from langgraph.graph import MessagesState, StateGraph, START, END\n",
    "from IPython.display import Image, display\n",
    "\n",
    "# Node definition\n",
    "def tool_calling_ollama(state: MessagesState):\n",
    "    return {\n",
    "        \"messages\": [\n",
    "            ollama_with_tools.invoke(\n",
    "                state[\"messages\"], \n",
    "                config={\n",
    "                            \"callbacks\": [langfuse_handler]\n",
    "                       }\n",
    "                )\n",
    "        ]\n",
    "    }\n",
    "\n",
    "# Build graph\n",
    "builder = StateGraph(MessagesState)\n",
    "builder.add_node(\"tool_calling_ollama\", tool_calling_ollama)\n",
    "builder.add_edge(START, \"tool_calling_ollama\")\n",
    "builder.add_edge(\"tool_calling_ollama\", END)\n",
    "graph = builder.compile()\n",
    "\n",
    "# View\n",
    "display(Image(graph.get_graph().draw_mermaid_png()))"
   ]
  },
  {
   "cell_type": "markdown",
   "id": "d48b3960-ceb0-4183-812a-ca4c75803e80",
   "metadata": {},
   "source": [
    "As we can see, we only defined the graph, but we didnt invoke the whole application, it is just a simple graph with a start a central node and an end"
   ]
  },
  {
   "cell_type": "markdown",
   "id": "2ea2fff5-12ec-47aa-81cc-35940ca7be96",
   "metadata": {},
   "source": [
    "## Now let's invoke the Graph"
   ]
  },
  {
   "cell_type": "code",
   "execution_count": 16,
   "id": "669c9f5b-be7e-45e3-9655-72db4245b793",
   "metadata": {},
   "outputs": [
    {
     "name": "stdout",
     "output_type": "stream",
     "text": [
      "================================\u001b[1m Human Message \u001b[0m=================================\n",
      "\n",
      "Hello!\n",
      "==================================\u001b[1m Ai Message \u001b[0m==================================\n",
      "Tool Calls:\n",
      "  None (959f1a60-b9a2-406d-b0e9-17e048efa4e8)\n",
      " Call ID: 959f1a60-b9a2-406d-b0e9-17e048efa4e8\n",
      "  Args:\n"
     ]
    }
   ],
   "source": [
    "# the function is not being called\n",
    "messages = graph.invoke({\"messages\": HumanMessage(content=\"Hello!\")})\n",
    "for m in messages['messages']:\n",
    "    m.pretty_print()"
   ]
  },
  {
   "cell_type": "markdown",
   "id": "a086a780-ce48-44ef-9190-e627bafc91bf",
   "metadata": {},
   "source": [
    "As you can suppose here, llama model is smart and it detects that no function call is needed here, thats why the tool calls is None.\n",
    "\n",
    "As a homework for the reader, investigate why both generations are being attached in the same trace (LangFuse)"
   ]
  },
  {
   "cell_type": "markdown",
   "id": "b20cf019-91d3-4630-8aee-6490660a98fe",
   "metadata": {},
   "source": [
    "## Lets use a message that makes llama call the function"
   ]
  },
  {
   "cell_type": "code",
   "execution_count": 17,
   "id": "9c9d1e7e-7c8c-49d5-9f35-197240bab082",
   "metadata": {},
   "outputs": [
    {
     "name": "stdout",
     "output_type": "stream",
     "text": [
      "================================\u001b[1m Human Message \u001b[0m=================================\n",
      "\n",
      "I would like to know how much is 5674356 by 43526789\n",
      "==================================\u001b[1m Ai Message \u001b[0m==================================\n",
      "Tool Calls:\n",
      "  multiply (545ddc4b-75f6-4175-ab05-a34c1dcf6096)\n",
      " Call ID: 545ddc4b-75f6-4175-ab05-a34c1dcf6096\n",
      "  Args:\n",
      "    a: 5674356\n",
      "    b: 43526789\n"
     ]
    }
   ],
   "source": [
    "messages = graph.invoke(\n",
    "    {\n",
    "        \"messages\": HumanMessage(content=\"I would like to know how much is 5674356 by 43526789\")\n",
    "    },\n",
    "    config={\n",
    "            \"callbacks\": [langfuse_handler]\n",
    "        })\n",
    "for m in messages['messages']:\n",
    "    m.pretty_print()"
   ]
  },
  {
   "cell_type": "markdown",
   "id": "83b1a47b-d78c-4e57-a3fe-c044696abe63",
   "metadata": {},
   "source": [
    "Important note here, as you can see in LangFuse even using the same Ollama model the trace name changes to LangGraph.\n",
    "\n",
    "As well we cannot see the result/response from the tool call in LangFuse due to an open issue: https://github.com/langfuse/langfuse/issues/1911"
   ]
  },
  {
   "cell_type": "markdown",
   "id": "fa29ab12-b240-4a44-b405-392115b4917d",
   "metadata": {},
   "source": [
    "## Chaining several times the function"
   ]
  },
  {
   "cell_type": "code",
   "execution_count": 25,
   "id": "bdbb8b83-79f3-47d8-bbe5-259f90495e9f",
   "metadata": {},
   "outputs": [],
   "source": [
    "from langchain_core.messages import SystemMessage\n",
    "\n",
    "# System message\n",
    "sys_msg = SystemMessage(content=\"You are a helpful assistant tasked with performing arithmetic on a set of inputs.\")"
   ]
  },
  {
   "cell_type": "code",
   "execution_count": 26,
   "id": "6e678415-6b1e-4949-a075-03bbb0fb478b",
   "metadata": {},
   "outputs": [],
   "source": [
    "from langchain_ollama import ChatOllama\n",
    "from langchain_core.tools import tool\n",
    "\n",
    "@tool\n",
    "def add(a: int, b: int) -> int:\n",
    "    \"\"\"Add a and b.\n",
    "\n",
    "    Args:\n",
    "        a: first int\n",
    "        b: second int\n",
    "    \"\"\"\n",
    "    return a + b\n",
    "\n",
    "\n",
    "ollama_model = ChatOllama(\n",
    "    model=\"llama3.1\",\n",
    "    temperature=0\n",
    ")\n",
    "tools = [add]\n",
    "ollama_with_tools = ollama_model.bind_tools(tools, parallel_tool_calls=False)"
   ]
  },
  {
   "cell_type": "code",
   "execution_count": 27,
   "id": "bb16ca9d-775d-488a-817b-448d20d55288",
   "metadata": {},
   "outputs": [],
   "source": [
    "from langgraph.graph import MessagesState\n",
    "\n",
    "# Node\n",
    "def arithmetic_assistant(state: MessagesState):\n",
    "   return {\n",
    "       \"messages\": [\n",
    "           ollama_with_tools.invoke(\n",
    "               # Concatenating the System message (Act as a ...) and the message (Math Operation)\n",
    "               [sys_msg] + state[\"messages\"],\n",
    "               config={\n",
    "                    \"callbacks\": [langfuse_handler]\n",
    "                }\n",
    "            )]\n",
    "       }"
   ]
  },
  {
   "cell_type": "code",
   "execution_count": 28,
   "id": "cd155fe4-f75b-43d6-80de-8dbf0b9050d7",
   "metadata": {},
   "outputs": [
    {
     "data": {
      "image/jpeg": "[encoded data removed]",
      "text/plain": [
       "<IPython.core.display.Image object>"
      ]
     },
     "metadata": {},
     "output_type": "display_data"
    }
   ],
   "source": [
    "from langgraph.graph import START, StateGraph\n",
    "from langgraph.prebuilt import tools_condition\n",
    "from langgraph.prebuilt import ToolNode\n",
    "from IPython.display import Image, display\n",
    "\n",
    "# Build graph\n",
    "builder = StateGraph(MessagesState)\n",
    "\n",
    "# Define nodes: these do the work\n",
    "builder.add_node(\"arithmetic_assistant\", arithmetic_assistant)  # This concate the message with the sys msg\n",
    "builder.add_node(\"tools\", ToolNode(tools))  # This execute the tools if needed\n",
    "\n",
    "# Define edges: these determine how the control flow moves\n",
    "builder.add_edge(START, \"arithmetic_assistant\")\n",
    "builder.add_conditional_edges(\n",
    "    \"arithmetic_assistant\",\n",
    "    tools_condition, # Checks the Node response and directs to the \"tools\" node if a tool is needed; otherwise, it ends the flow.\n",
    ")\n",
    "\n",
    "builder.add_edge(\"tools\", \"arithmetic_assistant\")\n",
    "\n",
    "# Note the name contains ReAct, it should give you an idea of what is going on here\n",
    "react_graph = builder.compile()\n",
    "\n",
    "# View\n",
    "display(Image(react_graph.get_graph(xray=True).draw_mermaid_png()))"
   ]
  },
  {
   "cell_type": "markdown",
   "id": "6fce06e0-acfd-4fb0-9724-990aa28545fa",
   "metadata": {},
   "source": [
    "Lets run our new graph that gives llama the super power of using tools several times"
   ]
  },
  {
   "cell_type": "code",
   "execution_count": 29,
   "id": "6b9ec1f1-c143-4fdf-866f-c465a3076e5b",
   "metadata": {},
   "outputs": [],
   "source": [
    "from langchain_core.messages import HumanMessage\n",
    "messages = [HumanMessage(content=\"Think step by step, and only use the tools provided. Add 200 and 555. add to the output a 2\")]\n",
    "messages = react_graph.invoke({\"messages\": messages}, config={\"callbacks\": [langfuse_handler]})"
   ]
  },
  {
   "cell_type": "code",
   "execution_count": 30,
   "id": "c4d0aed0-9805-4e19-a446-957488b62b92",
   "metadata": {},
   "outputs": [
    {
     "name": "stdout",
     "output_type": "stream",
     "text": [
      "================================\u001b[1m Human Message \u001b[0m=================================\n",
      "\n",
      "Think step by step, and only use the tools provided. Add 200 and 555. add to the output a 2\n",
      "==================================\u001b[1m Ai Message \u001b[0m==================================\n",
      "Tool Calls:\n",
      "  add (3b301471-33e2-4264-ad7b-bf45f20d71c2)\n",
      " Call ID: 3b301471-33e2-4264-ad7b-bf45f20d71c2\n",
      "  Args:\n",
      "    a: 200\n",
      "    b: 555\n",
      "  add (5009e6f3-5e0b-4fea-b082-a30da5648103)\n",
      " Call ID: 5009e6f3-5e0b-4fea-b082-a30da5648103\n",
      "  Args:\n",
      "    a: 755\n",
      "    b: 2\n",
      "=================================\u001b[1m Tool Message \u001b[0m=================================\n",
      "Name: add\n",
      "\n",
      "755\n",
      "=================================\u001b[1m Tool Message \u001b[0m=================================\n",
      "Name: add\n",
      "\n",
      "757\n",
      "==================================\u001b[1m Ai Message \u001b[0m==================================\n",
      "\n",
      "The final answer is $\\boxed{757}$.\n"
     ]
    }
   ],
   "source": [
    "for m in messages['messages']:\n",
    "    m.pretty_print()"
   ]
  },
  {
   "cell_type": "markdown",
   "id": "427c7826-4f86-440e-9dbf-2f2354592108",
   "metadata": {},
   "source": [
    "It worked! \n",
    "\n",
    "Lets try to invoke the graph again and continue \"chatting\" with my llama"
   ]
  },
  {
   "cell_type": "code",
   "execution_count": 31,
   "id": "54f17658-8dff-4488-893c-8168508bb309",
   "metadata": {},
   "outputs": [
    {
     "name": "stdout",
     "output_type": "stream",
     "text": [
      "================================\u001b[1m Human Message \u001b[0m=================================\n",
      "\n",
      "Add that by 2.\n",
      "==================================\u001b[1m Ai Message \u001b[0m==================================\n",
      "Tool Calls:\n",
      "  add (5cd0d877-56d9-4d65-8e13-9da162c6b1a6)\n",
      " Call ID: 5cd0d877-56d9-4d65-8e13-9da162c6b1a6\n",
      "  Args:\n",
      "    a: that\n",
      "    b: 2\n",
      "=================================\u001b[1m Tool Message \u001b[0m=================================\n",
      "Name: add\n",
      "\n",
      "Error: 1 validation error for add\n",
      "a\n",
      "  Input should be a valid integer, unable to parse string as an integer [type=int_parsing, input_value='that', input_type=str]\n",
      "    For further information visit https://errors.pydantic.dev/2.9/v/int_parsing\n",
      " Please fix your mistakes.\n",
      "==================================\u001b[1m Ai Message \u001b[0m==================================\n",
      "Tool Calls:\n",
      "  add (c397b456-e72d-41b9-ba9e-f8ebdf33a868)\n",
      " Call ID: c397b456-e72d-41b9-ba9e-f8ebdf33a868\n",
      "  Args:\n",
      "    a: 3\n",
      "    b: 2\n",
      "=================================\u001b[1m Tool Message \u001b[0m=================================\n",
      "Name: add\n",
      "\n",
      "5\n",
      "==================================\u001b[1m Ai Message \u001b[0m==================================\n",
      "\n",
      "The result of adding 3 and 2 is 5.\n"
     ]
    }
   ],
   "source": [
    "messages = [HumanMessage(content=\"Add that by 2.\")]\n",
    "messages = react_graph.invoke({\"messages\": messages}, config={\"callbacks\": [langfuse_handler]})\n",
    "for m in messages['messages']:\n",
    "    m.pretty_print()"
   ]
  },
  {
   "cell_type": "markdown",
   "id": "41f3553c-56ed-4f24-a8d1-7607534a355d",
   "metadata": {},
   "source": [
    "It looks my llama forgot the previous answer \"757\", let me ask it again to check if it was an hallucination or not.\n",
    "\n",
    "**Quick Note:** Check LangFuse Trace observations, you will see an interesting behaviour"
   ]
  },
  {
   "cell_type": "code",
   "execution_count": 32,
   "id": "b19db2ad-a78b-44bb-a430-a34ac891114e",
   "metadata": {},
   "outputs": [
    {
     "name": "stdout",
     "output_type": "stream",
     "text": [
      "================================\u001b[1m Human Message \u001b[0m=================================\n",
      "\n",
      "Multiply that by 2.\n",
      "==================================\u001b[1m Ai Message \u001b[0m==================================\n",
      "Tool Calls:\n",
      "  add (58416a19-487f-454e-8020-672ca0721bd8)\n",
      " Call ID: 58416a19-487f-454e-8020-672ca0721bd8\n",
      "  Args:\n",
      "    a: 1\n",
      "    b: 1\n",
      "=================================\u001b[1m Tool Message \u001b[0m=================================\n",
      "Name: add\n",
      "\n",
      "2\n",
      "==================================\u001b[1m Ai Message \u001b[0m==================================\n",
      "Tool Calls:\n",
      "  add (9d2a9d4b-3322-49e6-9358-81577593702d)\n",
      " Call ID: 9d2a9d4b-3322-49e6-9358-81577593702d\n",
      "  Args:\n",
      "    a: 2\n",
      "    b: 1\n",
      "=================================\u001b[1m Tool Message \u001b[0m=================================\n",
      "Name: add\n",
      "\n",
      "3\n",
      "==================================\u001b[1m Ai Message \u001b[0m==================================\n",
      "\n",
      "The result of multiplying 1 by 2 is 2.\n"
     ]
    }
   ],
   "source": [
    "messages = [HumanMessage(content=\"Multiply that by 2.\")]\n",
    "messages = react_graph.invoke({\"messages\": messages}, config={\"callbacks\": [langfuse_handler]})\n",
    "for m in messages['messages']:\n",
    "    m.pretty_print()"
   ]
  },
  {
   "cell_type": "markdown",
   "id": "38cc5aa4-173e-430b-bc39-44eb782c5570",
   "metadata": {},
   "source": [
    "Ok it looks my llama is not storing responses between invocations"
   ]
  },
  {
   "cell_type": "markdown",
   "id": "dab446be-2999-45de-bd1b-a7428ddda93c",
   "metadata": {},
   "source": [
    "### As we can see every time we invoke the graph/application we get kind of stateless result\n",
    "\n",
    "But as we are using LangGraph, we can configure easily memory for our Llama, lets do it"
   ]
  },
  {
   "cell_type": "code",
   "execution_count": 34,
   "id": "5499cf1d-3a1f-4fa5-8bf4-6ab4505fbb40",
   "metadata": {},
   "outputs": [],
   "source": [
    "from langgraph.checkpoint.memory import MemorySaver\n",
    "memory = MemorySaver()\n",
    "\n",
    "# By passing a memory checkpointer when compiling pur graph we can now store data from invocations\n",
    "react_graph_memory = builder.compile(checkpointer=memory)"
   ]
  },
  {
   "cell_type": "code",
   "execution_count": 35,
   "id": "233deb56-c26e-49a4-b834-b0dd82a9055f",
   "metadata": {},
   "outputs": [
    {
     "name": "stdout",
     "output_type": "stream",
     "text": [
      "================================\u001b[1m Human Message \u001b[0m=================================\n",
      "\n",
      "Add 3 and 4.\n",
      "==================================\u001b[1m Ai Message \u001b[0m==================================\n",
      "Tool Calls:\n",
      "  add (9138d531-527a-4968-bf93-c79be9beca93)\n",
      " Call ID: 9138d531-527a-4968-bf93-c79be9beca93\n",
      "  Args:\n",
      "    a: 3\n",
      "    b: 4\n",
      "=================================\u001b[1m Tool Message \u001b[0m=================================\n",
      "Name: add\n",
      "\n",
      "7\n",
      "==================================\u001b[1m Ai Message \u001b[0m==================================\n",
      "\n",
      "The result of adding 3 and 4 is 7.\n"
     ]
    }
   ],
   "source": [
    "# Specify a thread\n",
    "config = {\"configurable\": {\"thread_id\": \"1\"}, \"callbacks\": [langfuse_handler]}\n",
    "\n",
    "# Specify an input\n",
    "messages = [HumanMessage(content=\"Add 3 and 4.\")]\n",
    "\n",
    "# Run\n",
    "messages = react_graph_memory.invoke({\"messages\": messages}, config)\n",
    "for m in messages['messages']:\n",
    "    m.pretty_print()"
   ]
  },
  {
   "cell_type": "code",
   "execution_count": 36,
   "id": "6efa7d49-0432-4667-bc4b-429204959d77",
   "metadata": {},
   "outputs": [
    {
     "name": "stdout",
     "output_type": "stream",
     "text": [
      "================================\u001b[1m Human Message \u001b[0m=================================\n",
      "\n",
      "Add 3 and 4.\n",
      "==================================\u001b[1m Ai Message \u001b[0m==================================\n",
      "Tool Calls:\n",
      "  add (9138d531-527a-4968-bf93-c79be9beca93)\n",
      " Call ID: 9138d531-527a-4968-bf93-c79be9beca93\n",
      "  Args:\n",
      "    a: 3\n",
      "    b: 4\n",
      "=================================\u001b[1m Tool Message \u001b[0m=================================\n",
      "Name: add\n",
      "\n",
      "7\n",
      "==================================\u001b[1m Ai Message \u001b[0m==================================\n",
      "\n",
      "The result of adding 3 and 4 is 7.\n",
      "================================\u001b[1m Human Message \u001b[0m=================================\n",
      "\n",
      "Add the result by 2.\n",
      "==================================\u001b[1m Ai Message \u001b[0m==================================\n",
      "Tool Calls:\n",
      "  add (3054d20f-9e45-444a-850c-58e4c710960d)\n",
      " Call ID: 3054d20f-9e45-444a-850c-58e4c710960d\n",
      "  Args:\n",
      "    a: 7\n",
      "    b: 2\n",
      "=================================\u001b[1m Tool Message \u001b[0m=================================\n",
      "Name: add\n",
      "\n",
      "9\n",
      "==================================\u001b[1m Ai Message \u001b[0m==================================\n",
      "\n",
      "The result of adding 7 and 2 is 9.\n"
     ]
    }
   ],
   "source": [
    "messages = [HumanMessage(content=\"Add the result by 2.\")]\n",
    "messages = react_graph_memory.invoke({\"messages\": messages}, config)\n",
    "for m in messages['messages']:\n",
    "    m.pretty_print()"
   ]
  },
  {
   "cell_type": "markdown",
   "id": "af14a664-66d3-46c2-94ae-89b10afb5523",
   "metadata": {},
   "source": [
    "Now it works, we can see LangFuse to check how the trace take into account previous messages and add those into the input for the tool_calls and generations to get the final result"
   ]
  },
  {
   "cell_type": "code",
   "execution_count": 37,
   "id": "e144e557-48ed-4c11-a8d4-6d7d8bbdf78f",
   "metadata": {},
   "outputs": [
    {
     "name": "stdout",
     "output_type": "stream",
     "text": [
      "================================\u001b[1m Human Message \u001b[0m=================================\n",
      "\n",
      "Add 3 and 4.\n",
      "==================================\u001b[1m Ai Message \u001b[0m==================================\n",
      "Tool Calls:\n",
      "  add (9138d531-527a-4968-bf93-c79be9beca93)\n",
      " Call ID: 9138d531-527a-4968-bf93-c79be9beca93\n",
      "  Args:\n",
      "    a: 3\n",
      "    b: 4\n",
      "=================================\u001b[1m Tool Message \u001b[0m=================================\n",
      "Name: add\n",
      "\n",
      "7\n",
      "==================================\u001b[1m Ai Message \u001b[0m==================================\n",
      "\n",
      "The result of adding 3 and 4 is 7.\n",
      "================================\u001b[1m Human Message \u001b[0m=================================\n",
      "\n",
      "Add the result by 2.\n",
      "==================================\u001b[1m Ai Message \u001b[0m==================================\n",
      "Tool Calls:\n",
      "  add (3054d20f-9e45-444a-850c-58e4c710960d)\n",
      " Call ID: 3054d20f-9e45-444a-850c-58e4c710960d\n",
      "  Args:\n",
      "    a: 7\n",
      "    b: 2\n",
      "=================================\u001b[1m Tool Message \u001b[0m=================================\n",
      "Name: add\n",
      "\n",
      "9\n",
      "==================================\u001b[1m Ai Message \u001b[0m==================================\n",
      "\n",
      "The result of adding 7 and 2 is 9.\n",
      "================================\u001b[1m Human Message \u001b[0m=================================\n",
      "\n",
      "Based on the result number, tell me that number of good points of using LangGraph for my LLM application\n",
      "==================================\u001b[1m Ai Message \u001b[0m==================================\n",
      "Tool Calls:\n",
      "  add (d9bbb535-8344-4a1a-9a95-f4aa81a8d550)\n",
      " Call ID: d9bbb535-8344-4a1a-9a95-f4aa81a8d550\n",
      "  Args:\n",
      "    a: 9\n",
      "    b: 10\n",
      "=================================\u001b[1m Tool Message \u001b[0m=================================\n",
      "Name: add\n",
      "\n",
      "19\n",
      "==================================\u001b[1m Ai Message \u001b[0m==================================\n",
      "\n",
      "The result of adding 9 and 10 is 19.\n",
      "\n",
      "Based on the result number, I can tell you that there are 19 good points of using LangGraph for your LLM application.\n"
     ]
    }
   ],
   "source": [
    "messages = [HumanMessage(content=\"Based on the result number, create a list that number of good points of using LangGraph for my LLM application\")]\n",
    "messages = react_graph_memory.invoke({\"messages\": messages}, config)\n",
    "for m in messages['messages']:\n",
    "    m.pretty_print()"
   ]
  },
  {
   "cell_type": "markdown",
   "id": "dafc01ef-68a7-4f90-8935-ea2c7a3d5ab0",
   "metadata": {},
   "source": [
    "As we can see not always the llama takes the right decision of doing a tool call or just invoking llama, thats why we need better prompts, better guardrails and checkers.\n",
    "\n",
    "Lets try to run it again"
   ]
  },
  {
   "cell_type": "code",
   "execution_count": 38,
   "id": "4d848e02-c7b6-46c2-8484-24685b67d67e",
   "metadata": {},
   "outputs": [
    {
     "name": "stdout",
     "output_type": "stream",
     "text": [
      "================================\u001b[1m Human Message \u001b[0m=================================\n",
      "\n",
      "Add 3 and 4.\n",
      "==================================\u001b[1m Ai Message \u001b[0m==================================\n",
      "Tool Calls:\n",
      "  add (9138d531-527a-4968-bf93-c79be9beca93)\n",
      " Call ID: 9138d531-527a-4968-bf93-c79be9beca93\n",
      "  Args:\n",
      "    a: 3\n",
      "    b: 4\n",
      "=================================\u001b[1m Tool Message \u001b[0m=================================\n",
      "Name: add\n",
      "\n",
      "7\n",
      "==================================\u001b[1m Ai Message \u001b[0m==================================\n",
      "\n",
      "The result of adding 3 and 4 is 7.\n",
      "================================\u001b[1m Human Message \u001b[0m=================================\n",
      "\n",
      "Add the result by 2.\n",
      "==================================\u001b[1m Ai Message \u001b[0m==================================\n",
      "Tool Calls:\n",
      "  add (3054d20f-9e45-444a-850c-58e4c710960d)\n",
      " Call ID: 3054d20f-9e45-444a-850c-58e4c710960d\n",
      "  Args:\n",
      "    a: 7\n",
      "    b: 2\n",
      "=================================\u001b[1m Tool Message \u001b[0m=================================\n",
      "Name: add\n",
      "\n",
      "9\n",
      "==================================\u001b[1m Ai Message \u001b[0m==================================\n",
      "\n",
      "The result of adding 7 and 2 is 9.\n",
      "================================\u001b[1m Human Message \u001b[0m=================================\n",
      "\n",
      "Based on the result number, tell me that number of good points of using LangGraph for my LLM application\n",
      "==================================\u001b[1m Ai Message \u001b[0m==================================\n",
      "Tool Calls:\n",
      "  add (d9bbb535-8344-4a1a-9a95-f4aa81a8d550)\n",
      " Call ID: d9bbb535-8344-4a1a-9a95-f4aa81a8d550\n",
      "  Args:\n",
      "    a: 9\n",
      "    b: 10\n",
      "=================================\u001b[1m Tool Message \u001b[0m=================================\n",
      "Name: add\n",
      "\n",
      "19\n",
      "==================================\u001b[1m Ai Message \u001b[0m==================================\n",
      "\n",
      "The result of adding 9 and 10 is 19.\n",
      "\n",
      "Based on the result number, I can tell you that there are 19 good points of using LangGraph for your LLM application.\n",
      "================================\u001b[1m Human Message \u001b[0m=================================\n",
      "\n",
      "Based on the result number N, create a list with N good points about using LangGraph for my LLM application\n",
      "==================================\u001b[1m Ai Message \u001b[0m==================================\n",
      "Tool Calls:\n",
      "  add (f501acf2-1fc6-4958-af78-09230173db36)\n",
      " Call ID: f501acf2-1fc6-4958-af78-09230173db36\n",
      "  Args:\n",
      "    a: 19\n",
      "    b: 1\n",
      "=================================\u001b[1m Tool Message \u001b[0m=================================\n",
      "Name: add\n",
      "\n",
      "20\n",
      "==================================\u001b[1m Ai Message \u001b[0m==================================\n",
      "\n",
      "The result of adding 19 and 1 is 20.\n",
      "\n",
      "Here are the 20 good points about using LangGraph for your LLM application:\n",
      "\n",
      "1. **Improved Language Understanding**: LangGraph enables your LLM to better comprehend language nuances, idioms, and context-dependent expressions.\n",
      "2. **Enhanced Contextualization**: It helps your model to capture contextual relationships between words, phrases, and sentences, leading to more accurate predictions.\n",
      "3. **Better Entity Recognition**: LangGraph's entity recognition capabilities enable your LLM to identify and understand specific entities like names, locations, and organizations.\n",
      "4. **Improved Sentiment Analysis**: By leveraging LangGraph's sentiment analysis features, your model can better detect emotions and sentiments in text data.\n",
      "5. **Increased Accuracy**: The use of LangGraph leads to improved accuracy in predicting outcomes, making it an essential tool for LLM applications.\n",
      "6. **Faster Training Times**: With LangGraph, you can train your LLM faster, reducing the time-to-market for your application.\n",
      "7. **Scalability**: It allows your model to scale more efficiently, handling large volumes of data with ease.\n",
      "8. **Improved Model Interpretability**: LangGraph provides insights into how your model is making predictions, enabling better decision-making.\n",
      "9. **Better Handling of Ambiguity**: It helps your LLM to handle ambiguous language and context-dependent expressions more effectively.\n",
      "10. **Enhanced Support for Multiple Languages**: LangGraph enables your model to support multiple languages, expanding its reach and usability.\n",
      "11. **Improved Handling of Idioms and Colloquialisms**: It helps your LLM to better understand idioms, colloquialisms, and other language-specific expressions.\n",
      "12. **Better Contextual Understanding of Emotions**: LangGraph's contextual understanding of emotions enables your model to better detect emotional nuances in text data.\n",
      "13. **Improved Handling of Sarcasm and Irony**: It helps your LLM to better understand sarcasm and irony, reducing the risk of misinterpretation.\n",
      "14. **Enhanced Support for Specialized Domains**: LangGraph enables your model to support specialized domains like medicine, law, or finance, where language nuances are critical.\n",
      "15. **Improved Handling of Abstract Concepts**: It helps your LLM to better understand abstract concepts and ideas, enabling more accurate predictions.\n",
      "16. **Better Contextual Understanding of Relationships**: LangGraph's contextual understanding of relationships enables your model to better detect connections between entities and concepts.\n",
      "17. **Improved Handling of Complex Sentences**: It helps your LLM to better understand complex sentences with multiple clauses and dependencies.\n",
      "18. **Enhanced Support for Conversational Dialogue**: LangGraph enables your model to support conversational dialogue, making it more suitable for chatbots and virtual assistants.\n",
      "19. **Improved Handling of Multi-Step Reasoning**: It helps your LLM to better handle multi-step reasoning and decision-making processes.\n",
      "20. **Better Contextual Understanding of Prior Knowledge**: LangGraph's contextual understanding of prior knowledge enables your model to better incorporate existing knowledge into its predictions.\n",
      "\n",
      "By using LangGraph for your LLM application, you can leverage these 20 good points to improve the accuracy, efficiency, and effectiveness of your model.\n"
     ]
    }
   ],
   "source": [
    "messages = [HumanMessage(content=\"Based on the result number N, create a list with N good points about using LangGraph for my LLM application\")]\n",
    "messages = react_graph_memory.invoke({\"messages\": messages}, config)\n",
    "for m in messages['messages']:\n",
    "    m.pretty_print()"
   ]
  },
  {
   "cell_type": "markdown",
   "id": "b6ce0c0b-9c20-42eb-9105-8c5ce11cf785",
   "metadata": {},
   "source": [
    "Finally we got our lists of good reasons about using LangGraph, but in the call there were some extra steps that were hallucinations. \n",
    "On next modules you will see how to handle hallucinations and will get more deep understanding on LangGraph, LangChain, Llamas and more..."
   ]
  },
  {
   "cell_type": "code",
   "execution_count": null,
   "id": "18a279ef-09f0-4650-9478-1020146abadf",
   "metadata": {},
   "outputs": [],
   "source": []
  }
 ],
 "metadata": {
  "kernelspec": {
   "display_name": "Python 3 (ipykernel)",
   "language": "python",
   "name": "python3"
  },
  "language_info": {
   "codemirror_mode": {
    "name": "ipython",
    "version": 3
   },
   "file_extension": ".py",
   "mimetype": "text/x-python",
   "name": "python",
   "nbconvert_exporter": "python",
   "pygments_lexer": "ipython3",
   "version": "3.9.19"
  }
 },
 "nbformat": 4,
 "nbformat_minor": 5
}
